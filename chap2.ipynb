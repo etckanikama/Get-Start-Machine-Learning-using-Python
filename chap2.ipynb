{
  "nbformat": 4,
  "nbformat_minor": 0,
  "metadata": {
    "colab": {
      "name": "chap2.ipynb",
      "provenance": [],
      "authorship_tag": "ABX9TyNbVwPywCQHa24zMc9BSm3G",
      "include_colab_link": true
    },
    "kernelspec": {
      "name": "python3",
      "display_name": "Python 3"
    },
    "language_info": {
      "name": "python"
    }
  },
  "cells": [
    {
      "cell_type": "markdown",
      "metadata": {
        "id": "view-in-github",
        "colab_type": "text"
      },
      "source": [
        "<a href=\"https://colab.research.google.com/github/etckanikama/Get-Start-Machine-Learning-using-Python/blob/main/chap2.ipynb\" target=\"_parent\"><img src=\"https://colab.research.google.com/assets/colab-badge.svg\" alt=\"Open In Colab\"/></a>"
      ]
    },
    {
      "cell_type": "code",
      "execution_count": 2,
      "metadata": {
        "colab": {
          "base_uri": "https://localhost:8080/"
        },
        "id": "r4H-sRvN50Ns",
        "outputId": "24a09eb7-acdc-44bf-ff25-9d3042728060"
      },
      "outputs": [
        {
          "output_type": "stream",
          "name": "stdout",
          "text": [
            "Collecting mglearn\n",
            "  Downloading mglearn-0.1.9.tar.gz (540 kB)\n",
            "\u001b[?25l\r\u001b[K     |▋                               | 10 kB 23.7 MB/s eta 0:00:01\r\u001b[K     |█▏                              | 20 kB 14.7 MB/s eta 0:00:01\r\u001b[K     |█▉                              | 30 kB 10.5 MB/s eta 0:00:01\r\u001b[K     |██▍                             | 40 kB 9.0 MB/s eta 0:00:01\r\u001b[K     |███                             | 51 kB 5.2 MB/s eta 0:00:01\r\u001b[K     |███▋                            | 61 kB 5.7 MB/s eta 0:00:01\r\u001b[K     |████▎                           | 71 kB 5.5 MB/s eta 0:00:01\r\u001b[K     |████▉                           | 81 kB 6.2 MB/s eta 0:00:01\r\u001b[K     |█████▌                          | 92 kB 4.8 MB/s eta 0:00:01\r\u001b[K     |██████                          | 102 kB 5.2 MB/s eta 0:00:01\r\u001b[K     |██████▊                         | 112 kB 5.2 MB/s eta 0:00:01\r\u001b[K     |███████▎                        | 122 kB 5.2 MB/s eta 0:00:01\r\u001b[K     |███████▉                        | 133 kB 5.2 MB/s eta 0:00:01\r\u001b[K     |████████▌                       | 143 kB 5.2 MB/s eta 0:00:01\r\u001b[K     |█████████                       | 153 kB 5.2 MB/s eta 0:00:01\r\u001b[K     |█████████▊                      | 163 kB 5.2 MB/s eta 0:00:01\r\u001b[K     |██████████▎                     | 174 kB 5.2 MB/s eta 0:00:01\r\u001b[K     |███████████                     | 184 kB 5.2 MB/s eta 0:00:01\r\u001b[K     |███████████▌                    | 194 kB 5.2 MB/s eta 0:00:01\r\u001b[K     |████████████▏                   | 204 kB 5.2 MB/s eta 0:00:01\r\u001b[K     |████████████▊                   | 215 kB 5.2 MB/s eta 0:00:01\r\u001b[K     |█████████████▍                  | 225 kB 5.2 MB/s eta 0:00:01\r\u001b[K     |██████████████                  | 235 kB 5.2 MB/s eta 0:00:01\r\u001b[K     |██████████████▋                 | 245 kB 5.2 MB/s eta 0:00:01\r\u001b[K     |███████████████▏                | 256 kB 5.2 MB/s eta 0:00:01\r\u001b[K     |███████████████▊                | 266 kB 5.2 MB/s eta 0:00:01\r\u001b[K     |████████████████▍               | 276 kB 5.2 MB/s eta 0:00:01\r\u001b[K     |█████████████████               | 286 kB 5.2 MB/s eta 0:00:01\r\u001b[K     |█████████████████▋              | 296 kB 5.2 MB/s eta 0:00:01\r\u001b[K     |██████████████████▏             | 307 kB 5.2 MB/s eta 0:00:01\r\u001b[K     |██████████████████▉             | 317 kB 5.2 MB/s eta 0:00:01\r\u001b[K     |███████████████████▍            | 327 kB 5.2 MB/s eta 0:00:01\r\u001b[K     |████████████████████            | 337 kB 5.2 MB/s eta 0:00:01\r\u001b[K     |████████████████████▋           | 348 kB 5.2 MB/s eta 0:00:01\r\u001b[K     |█████████████████████▎          | 358 kB 5.2 MB/s eta 0:00:01\r\u001b[K     |█████████████████████▉          | 368 kB 5.2 MB/s eta 0:00:01\r\u001b[K     |██████████████████████▌         | 378 kB 5.2 MB/s eta 0:00:01\r\u001b[K     |███████████████████████         | 389 kB 5.2 MB/s eta 0:00:01\r\u001b[K     |███████████████████████▋        | 399 kB 5.2 MB/s eta 0:00:01\r\u001b[K     |████████████████████████▎       | 409 kB 5.2 MB/s eta 0:00:01\r\u001b[K     |████████████████████████▉       | 419 kB 5.2 MB/s eta 0:00:01\r\u001b[K     |█████████████████████████▌      | 430 kB 5.2 MB/s eta 0:00:01\r\u001b[K     |██████████████████████████      | 440 kB 5.2 MB/s eta 0:00:01\r\u001b[K     |██████████████████████████▊     | 450 kB 5.2 MB/s eta 0:00:01\r\u001b[K     |███████████████████████████▎    | 460 kB 5.2 MB/s eta 0:00:01\r\u001b[K     |████████████████████████████    | 471 kB 5.2 MB/s eta 0:00:01\r\u001b[K     |████████████████████████████▌   | 481 kB 5.2 MB/s eta 0:00:01\r\u001b[K     |█████████████████████████████▏  | 491 kB 5.2 MB/s eta 0:00:01\r\u001b[K     |█████████████████████████████▊  | 501 kB 5.2 MB/s eta 0:00:01\r\u001b[K     |██████████████████████████████▍ | 512 kB 5.2 MB/s eta 0:00:01\r\u001b[K     |███████████████████████████████ | 522 kB 5.2 MB/s eta 0:00:01\r\u001b[K     |███████████████████████████████▌| 532 kB 5.2 MB/s eta 0:00:01\r\u001b[K     |████████████████████████████████| 540 kB 5.2 MB/s \n",
            "\u001b[?25hRequirement already satisfied: numpy in /usr/local/lib/python3.7/dist-packages (from mglearn) (1.19.5)\n",
            "Requirement already satisfied: matplotlib in /usr/local/lib/python3.7/dist-packages (from mglearn) (3.2.2)\n",
            "Requirement already satisfied: scikit-learn in /usr/local/lib/python3.7/dist-packages (from mglearn) (1.0.2)\n",
            "Requirement already satisfied: pandas in /usr/local/lib/python3.7/dist-packages (from mglearn) (1.3.5)\n",
            "Requirement already satisfied: pillow in /usr/local/lib/python3.7/dist-packages (from mglearn) (7.1.2)\n",
            "Requirement already satisfied: cycler in /usr/local/lib/python3.7/dist-packages (from mglearn) (0.11.0)\n",
            "Requirement already satisfied: imageio in /usr/local/lib/python3.7/dist-packages (from mglearn) (2.4.1)\n",
            "Requirement already satisfied: joblib in /usr/local/lib/python3.7/dist-packages (from mglearn) (1.1.0)\n",
            "Requirement already satisfied: kiwisolver>=1.0.1 in /usr/local/lib/python3.7/dist-packages (from matplotlib->mglearn) (1.3.2)\n",
            "Requirement already satisfied: python-dateutil>=2.1 in /usr/local/lib/python3.7/dist-packages (from matplotlib->mglearn) (2.8.2)\n",
            "Requirement already satisfied: pyparsing!=2.0.4,!=2.1.2,!=2.1.6,>=2.0.1 in /usr/local/lib/python3.7/dist-packages (from matplotlib->mglearn) (3.0.7)\n",
            "Requirement already satisfied: six>=1.5 in /usr/local/lib/python3.7/dist-packages (from python-dateutil>=2.1->matplotlib->mglearn) (1.15.0)\n",
            "Requirement already satisfied: pytz>=2017.3 in /usr/local/lib/python3.7/dist-packages (from pandas->mglearn) (2018.9)\n",
            "Requirement already satisfied: threadpoolctl>=2.0.0 in /usr/local/lib/python3.7/dist-packages (from scikit-learn->mglearn) (3.1.0)\n",
            "Requirement already satisfied: scipy>=1.1.0 in /usr/local/lib/python3.7/dist-packages (from scikit-learn->mglearn) (1.4.1)\n",
            "Building wheels for collected packages: mglearn\n",
            "  Building wheel for mglearn (setup.py) ... \u001b[?25l\u001b[?25hdone\n",
            "  Created wheel for mglearn: filename=mglearn-0.1.9-py2.py3-none-any.whl size=582639 sha256=16e890a571c656b3a1203ca6c8513956157fff9e177f384cdc7e4287064c7fe4\n",
            "  Stored in directory: /root/.cache/pip/wheels/f1/17/e1/1720d6dcd70187b6b6c3750cb3508798f2b1d57c9d3214b08b\n",
            "Successfully built mglearn\n",
            "Installing collected packages: mglearn\n",
            "Successfully installed mglearn-0.1.9\n"
          ]
        }
      ],
      "source": [
        "!pip install mglearn"
      ]
    },
    {
      "cell_type": "code",
      "source": [
        "#2章：教師あり学習\n",
        "import numpy as np\n",
        "import matplotlib.pyplot as plt\n",
        "import pandas as pd\n",
        "import mglearn\n",
        "from sklearn.model_selection import train_test_split\n",
        "\n",
        "X, y = mglearn.datasets.make_forge()\n",
        "\n",
        "X_train, X_test, y_train, y_test = train_test_split(X, y, random_state=0)\n",
        "\n",
        "# k-NN: k-最近傍法\n",
        "from sklearn.neighbors import KNeighborsClassifier\n",
        "clf = KNeighborsClassifier(n_neighbors=3) #k=3\n",
        "# 次に訓練セットを用いてクラス分類\n",
        "clf.fit(X_train, y_train)\n",
        "print(clf.predict(X_test)) \n",
        "# 汎化性能\n",
        "print(clf.score(X_test, y_test))\n",
        "# print(X) #二つの特徴量を持つ\n",
        "print(X[:,0]) #特徴量の内一つめ，X[:,1]が二つ目\n",
        "print(y)\n",
        "\n",
        "\n",
        "fig, axes = plt.subplots(1,3,figsize=(10,3))\n",
        "\n",
        "for n_neighbors, ax in zip([1,3,9],axes):\n",
        "  print(n_neighbors)\n",
        "  clf = KNeighborsClassifier(n_neighbors=n_neighbors).fit(X,y)\n",
        "  mglearn.plots.plot_2d_separator(clf,X,fill=True, eps=0.5, ax =ax , alpha=0.4) #第一引数に分類モデル，第二引数に元データを置くと境界線を引いてくれる\n",
        "  mglearn.discrete_scatter(X[:,0],X[:,1],y,ax=ax) #特徴量一つ目，特徴量二つ目，正解ラベル→\n",
        "  ax.set_title(\"{} neighbor(s)\".format(n_neighbors))\n",
        "  ax.set_xlabel(\"feature 0\")\n",
        "  ax.set_ylabel(\"feature 1\")\n",
        "axes[0].legend(loc=3)\n",
        "plt.show()"
      ],
      "metadata": {
        "colab": {
          "base_uri": "https://localhost:8080/",
          "height": 450
        },
        "id": "E1UsPLiVtpTT",
        "outputId": "fae1f16e-d38b-4253-a93e-a3e2564bada1"
      },
      "execution_count": 17,
      "outputs": [
        {
          "output_type": "stream",
          "name": "stderr",
          "text": [
            "/usr/local/lib/python3.7/dist-packages/sklearn/utils/deprecation.py:87: FutureWarning: Function make_blobs is deprecated; Please import make_blobs directly from scikit-learn\n",
            "  warnings.warn(msg, category=FutureWarning)\n"
          ]
        },
        {
          "output_type": "stream",
          "name": "stdout",
          "text": [
            "[1 0 1 0 1 0 0]\n",
            "0.8571428571428571\n",
            "[ 9.96346605 11.0329545  11.54155807  8.69289001  8.1062269   8.30988863\n",
            " 11.93027136  9.67284681  8.34810316  8.67494727  9.17748385 10.24028948\n",
            "  8.68937095  8.92229526  9.49123469  9.25694192  7.99815287  8.18378052\n",
            "  8.7337095   9.32298256 10.06393839  9.50048972  8.34468785  9.50169345\n",
            "  9.15072323 11.563957  ]\n",
            "[1 0 1 0 0 1 1 0 1 1 1 1 0 0 1 1 1 0 0 1 0 0 0 0 1 0]\n",
            "1\n",
            "3\n",
            "9\n"
          ]
        },
        {
          "output_type": "display_data",
          "data": {
            "image/png": "[encoded data removed]",
            "text/plain": [
              "<Figure size 720x216 with 3 Axes>"
            ]
          },
          "metadata": {}
        }
      ]
    },
    {
      "cell_type": "code",
      "source": [
        "from sklearn import neighbors\n",
        "from sklearn.datasets import load_breast_cancer\n",
        "\n",
        "cancer = load_breast_cancer()\n",
        "X_train, X_test, y_train, y_test = train_test_split(cancer.data, cancer.target, stratify=cancer.target, random_state=66)\n",
        "\n",
        "training_accuracy = []\n",
        "test_accuracy = []\n",
        "\n",
        "# n_neighbor 1~10まで試す：kの数\n",
        "neighbors_settings = range(1,11)\n",
        "print(neighbors_settings)\n",
        "\n",
        "for n_neighbors in neighbors_settings:\n",
        "  print(n_neighbors)\n",
        "  # モデルを構築\n",
        "  clf = KNeighborsClassifier(n_neighbors=n_neighbors)\n",
        "  clf.fit(X_train, y_train)\n",
        "  # 訓練セット精度を記録\n",
        "  training_accuracy.append(clf.score(X_train, y_train))\n",
        "  # 汎化性能を記録\n",
        "  test_accuracy.append(clf.score(X_test, y_test))\n",
        "\n",
        "plt.plot(neighbors_settings, training_accuracy, label=\"training accuracy\")\n",
        "plt.plot(neighbors_settings, test_accuracy, label=\"test accuracy\")\n",
        "plt.xlabel(\"n_neighbors\")\n",
        "plt.legend()\n",
        "plt.show()\n",
        "# k:6くらいが精度もよくて汎化性能も高いと言える\n",
        "# kが少ない→モデルが複雑であり，表現能力が高いが汎化性能が低くなりがち\n",
        "# kが多いと→モデルがシンプルになって，性能がひくい"
      ],
      "metadata": {
        "colab": {
          "base_uri": "https://localhost:8080/",
          "height": 471
        },
        "id": "pHPsFQ592Ned",
        "outputId": "3308b00e-b6b0-42cd-906e-ebfc358bc696"
      },
      "execution_count": 22,
      "outputs": [
        {
          "output_type": "stream",
          "name": "stdout",
          "text": [
            "range(1, 11)\n",
            "1\n",
            "2\n",
            "3\n",
            "4\n",
            "5\n",
            "6\n",
            "7\n",
            "8\n",
            "9\n",
            "10\n"
          ]
        },
        {
          "output_type": "display_data",
          "data": {
            "image/png": "[encoded data removed]",
            "text/plain": [
              "<Figure size 432x288 with 1 Axes>"
            ]
          },
          "metadata": {
            "needs_background": "light"
          }
        }
      ]
    },
    {
      "cell_type": "code",
      "source": [
        "# k-最近傍法ではなく→k-近傍\"回帰\"(regressor:回帰)\n",
        "from sklearn.neighbors import KNeighborsRegressor\n",
        "X,y = mglearn.datasets.make_wave(n_samples=40)\n",
        "# waveデータセットを訓練とテストで分ける\n",
        "X_train, X_test, y_train, y_test = train_test_split(X,y,random_state=0)\n",
        "\n",
        "# 3つの近傍点を考慮してモデルのインスタンス化\n",
        "reg = KNeighborsRegressor(n_neighbors=3)\n",
        "reg.fit(X_train, y_train)\n",
        "print(\"test set pkrediction: \\n{}\".format(reg.predict(X_test))) #テストに対する精度\n",
        "print(\"test set R^2: {:.2f}\".format(reg.score(X_test,y_test)))\n",
        "# 線形回帰：多数の特徴量を持っているときに有効\n",
        "mglearn.plots.plot_linear_regression_wave()"
      ],
      "metadata": {
        "colab": {
          "base_uri": "https://localhost:8080/",
          "height": 534
        },
        "id": "-MEFuj3W6Xsm",
        "outputId": "453312a8-f511-4d4e-858f-e0522f3997c2"
      },
      "execution_count": 28,
      "outputs": [
        {
          "output_type": "stream",
          "name": "stdout",
          "text": [
            "test set pkrediction: \n",
            "[-0.05396539  0.35686046  1.13671923 -1.89415682 -1.13881398 -1.63113382\n",
            "  0.35686046  0.91241374 -0.44680446 -1.13881398]\n",
            "test set R^2: 0.83\n",
            "w[0]: 0.393906  b: -0.031804\n"
          ]
        },
        {
          "output_type": "display_data",
          "data": {
            "image/png": "[encoded data removed]",
            "text/plain": [
              "<Figure size 576x576 with 1 Axes>"
            ]
          },
          "metadata": {
            "needs_background": "light"
          }
        }
      ]
    },
    {
      "cell_type": "code",
      "source": [
        "# 線形回帰\n",
        "from sklearn.linear_model import LinearRegression\n",
        "X,y = mglearn.datasets.make_wave(n_samples=60)\n",
        "X_train, X_test, y_train, y_test = train_test_split(X,y, random_state=42)\n",
        "\n",
        "lr = LinearRegression().fit(X_train, y_train)\n",
        "# 重み（係数）：coefficient(coef_属性), 切片:intercept(intercept_属性)\n",
        "print(\"lr.coef:{}\".format(lr.coef_))\n",
        "# print(\"\")\n",
        "\n",
        "\n"
      ],
      "metadata": {
        "colab": {
          "base_uri": "https://localhost:8080/"
        },
        "id": "80MO3iP-BsDg",
        "outputId": "efa14ad1-072e-466a-c609-7b0d3a3d2888"
      },
      "execution_count": 30,
      "outputs": [
        {
          "output_type": "stream",
          "name": "stdout",
          "text": [
            "lr.coef:[0.39390555]\n"
          ]
        }
      ]
    },
    {
      "cell_type": "code",
      "source": [
        "# p49:線形回帰：真の値と予測の回帰ターゲットが最小になるようにwとbを決める\n",
        "X,y = mglearn.datasets.load_extended_boston()\n",
        "X_train, X_test, y_train, y_test = train_test_split(X,y, random_state=0)\n",
        "lr = LinearRegression().fit(X_train, y_train)\n",
        "print(\"線形回帰\")\n",
        "print(lr.score(X_train, y_train))\n",
        "print(lr.score(X_test, y_test))\n",
        "# 訓練スコアと検証スコアにずれが大きい→過剰適合（過学習）が起きている可能性，訓練データにのみ対応した結果→要するに単純すぎる一次方程式じゃ表現しきれないよねって感じ\n",
        "# だからパラメータをもっといじれるようにする→正則化項を加えることに対応→これはリッジ回帰\n",
        "\n",
        "from sklearn.linear_model import Ridge\n",
        "ridge = Ridge().fit(X_train, y_train)\n",
        "print(\"リッジ回帰\")\n",
        "print(ridge.score(X_train,y_train))\n",
        "print(ridge.score(X_test, y_test))\n",
        "# 線形回帰で過剰適応していた差を抑えた．スコアが高いと言える．\n",
        "# ロジスティック回帰：回帰ではなく分類アルゴリズム\n",
        "\n"
      ],
      "metadata": {
        "colab": {
          "base_uri": "https://localhost:8080/"
        },
        "id": "yLXTSQeuDkEn",
        "outputId": "5822cfc2-fe24-4955-b9c9-ff828dafba03"
      },
      "execution_count": 34,
      "outputs": [
        {
          "output_type": "stream",
          "name": "stdout",
          "text": [
            "線形回帰\n",
            "0.9520519609032727\n",
            "0.607472195966557\n",
            "リッジ回帰\n",
            "0.8857966585170941\n",
            "0.7527683481744751\n"
          ]
        },
        {
          "output_type": "stream",
          "name": "stderr",
          "text": [
            "/usr/local/lib/python3.7/dist-packages/sklearn/utils/deprecation.py:87: FutureWarning: Function load_boston is deprecated; `load_boston` is deprecated in 1.0 and will be removed in 1.2.\n",
            "\n",
            "    The Boston housing prices dataset has an ethical problem. You can refer to\n",
            "    the documentation of this function for further details.\n",
            "\n",
            "    The scikit-learn maintainers therefore strongly discourage the use of this\n",
            "    dataset unless the purpose of the code is to study and educate about\n",
            "    ethical issues in data science and machine learning.\n",
            "\n",
            "    In this special case, you can fetch the dataset from the original\n",
            "    source::\n",
            "\n",
            "        import pandas as pd\n",
            "        import numpy as np\n",
            "\n",
            "\n",
            "        data_url = \"http://lib.stat.cmu.edu/datasets/boston\"\n",
            "        raw_df = pd.read_csv(data_url, sep=\"\\s+\", skiprows=22, header=None)\n",
            "        data = np.hstack([raw_df.values[::2, :], raw_df.values[1::2, :2]])\n",
            "        target = raw_df.values[1::2, 2]\n",
            "\n",
            "    Alternative datasets include the California housing dataset (i.e.\n",
            "    :func:`~sklearn.datasets.fetch_california_housing`) and the Ames housing\n",
            "    dataset. You can load the datasets as follows::\n",
            "\n",
            "        from sklearn.datasets import fetch_california_housing\n",
            "        housing = fetch_california_housing()\n",
            "\n",
            "    for the California housing dataset and::\n",
            "\n",
            "        from sklearn.datasets import fetch_openml\n",
            "        housing = fetch_openml(name=\"house_prices\", as_frame=True)\n",
            "\n",
            "    for the Ames housing dataset.\n",
            "    \n",
            "  warnings.warn(msg, category=FutureWarning)\n"
          ]
        }
      ]
    },
    {
      "cell_type": "code",
      "source": [
        "# ロジスティック回帰：回帰アルゴリズムではなく分類アルゴリズムらしい\n",
        "# サポートベクトルマシン:決定境界\n",
        "from sklearn.linear_model import LogisticRegression\n",
        "from sklearn.svm import LinearSVC\n",
        "\n",
        "X,y = mglearn.datasets.make_forge() #データセットの準備\n",
        "fig,axes = plt.subplots(1,2,figsize=(10,3))\n",
        "for model, ax in zip([LinearSVC(),LogisticRegression()],axes):\n",
        "  clf = model.fit(X,y)\n",
        "  mglearn.plots.plot_2d_separator(clf, X,fill= False, eps=0.5, ax = ax, alpha=0.7)\n",
        "  mglearn.discrete_scatter(X[:,0],X[:,1],y, ax = ax)\n",
        "  ax.set_xlabel(\"Feature 0\")\n",
        "  ax.set_ylabel(\"Feature 1\")\n",
        "axes[0].legend()\n",
        "plt.show()\n",
        "\n"
      ],
      "metadata": {
        "colab": {
          "base_uri": "https://localhost:8080/",
          "height": 278
        },
        "id": "0M_Bn_c3f1T_",
        "outputId": "7b986eee-43dc-4fa7-ac3b-ed46f9dcb29f"
      },
      "execution_count": 37,
      "outputs": [
        {
          "output_type": "stream",
          "name": "stderr",
          "text": [
            "/usr/local/lib/python3.7/dist-packages/sklearn/utils/deprecation.py:87: FutureWarning: Function make_blobs is deprecated; Please import make_blobs directly from scikit-learn\n",
            "  warnings.warn(msg, category=FutureWarning)\n",
            "/usr/local/lib/python3.7/dist-packages/sklearn/svm/_base.py:1208: ConvergenceWarning: Liblinear failed to converge, increase the number of iterations.\n",
            "  ConvergenceWarning,\n"
          ]
        },
        {
          "output_type": "display_data",
          "data": {
            "image/png": "[encoded data removed]",
            "text/plain": [
              "<Figure size 720x216 with 2 Axes>"
            ]
          },
          "metadata": {}
        }
      ]
    },
    {
      "cell_type": "code",
      "source": [
        "import numpy as np\n",
        "import matplotlib.pyplot as plt\n",
        "import pandas as pd\n",
        "# import mglearn\n",
        "from sklearn.model_selection import train_test_split\n",
        "from sklearn.linear_model import LogisticRegression\n",
        "\n",
        "# ロジスティック回帰のもう少し実装：がんのやつ\n",
        "from sklearn.datasets import load_breast_cancer\n",
        "cancer = load_breast_cancer()\n",
        "X_train, X_test, y_train, y_test = train_test_split(cancer.data, cancer.target, stratify=cancer.target, random_state=42)\n",
        "# max_iterのデフォルトは1000\n",
        "logreg = LogisticRegression(max_iter=2000).fit(X_train, y_train)\n",
        "print(logreg.score(X_train, y_train))\n",
        "\n"
      ],
      "metadata": {
        "colab": {
          "base_uri": "https://localhost:8080/"
        },
        "id": "T4NjK6n4h5Xg",
        "outputId": "649166c6-9020-4b51-f149-66cc5a0d2980"
      },
      "execution_count": 41,
      "outputs": [
        {
          "output_type": "stream",
          "name": "stdout",
          "text": [
            "0.9577464788732394\n"
          ]
        }
      ]
    },
    {
      "cell_type": "code",
      "source": [
        "# 2.3.3.6:線形モデルによる多クラス分類"
      ],
      "metadata": {
        "id": "neAfmqELoX8x"
      },
      "execution_count": 42,
      "outputs": []
    },
    {
      "cell_type": "code",
      "source": [
        "# ナイーブベイズクラス分類器\n",
        "x = np.array([[0,1,0,1],\n",
        "              [1,0,1,1],\n",
        "              [0,0,0,1],\n",
        "              [1,0,1,0]])\n",
        "y = np.array([0,1,0,1])\n",
        "\n",
        "# 非ゼロ要素をカウントする方法\n",
        "counts ={}\n",
        "for label in np.unique(y):\n",
        "  print(label) #0 ,1のふたつ\n",
        "  # それぞれの特徴量ごとに非ゼロの数を加算する\n",
        "  counts[label] = x[y==label].sum(axis=0) #axis=0行方向に足し合わす\n",
        "print(counts)\n",
        "  \n"
      ],
      "metadata": {
        "colab": {
          "base_uri": "https://localhost:8080/"
        },
        "id": "rVBnV46_r1ZA",
        "outputId": "c696bebd-0413-44bf-bd1b-afd9812f03bd"
      },
      "execution_count": 48,
      "outputs": [
        {
          "output_type": "stream",
          "name": "stdout",
          "text": [
            "0\n",
            "1\n",
            "{0: array([0, 1, 0, 2]), 1: array([2, 0, 2, 1])}\n"
          ]
        }
      ]
    }
  ]
}